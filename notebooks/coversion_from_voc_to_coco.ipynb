{
 "cells": [
  {
   "cell_type": "markdown",
   "metadata": {},
   "source": [
    "# covert from voc to coco\n",
    "\n",
    "https://github.com/umitron/umitron-fish-detection/blob/develop/doc/train_data_format.md"
   ]
  },
  {
   "cell_type": "code",
   "execution_count": 3,
   "metadata": {},
   "outputs": [
    {
     "name": "stdout",
     "output_type": "stream",
     "text": [
      "1816700b-8029-415d-b28d-4a4f3d31f1fb.xml\r\n",
      "189e856f-95ef-4684-b13f-64247168994b.xml\r\n",
      "2cf3324f-5730-400c-92b9-c4354a522f53.xml\r\n",
      "2ee6409a-53d5-49aa-a086-df1d65e204b5.xml\r\n",
      "335c1a6d-6564-40a7-83a1-294e63976a06.xml\r\n",
      "34b595e1-2c52-4335-a605-e58c641a6b83.xml\r\n",
      "40b108cb-ecca-4641-bd21-ef3bbf37ba2e.xml\r\n",
      "420168f8-cac2-4f97-b096-ca47f5c0972e.xml\r\n",
      "4331961b-d060-4dc6-8afd-bdee7d41d700.xml\r\n",
      "577428a0-052f-409b-8c00-056fa547167e.xml\r\n",
      "68306358-a039-428b-a0c9-c40a6ee95c49.xml\r\n",
      "6aebadd7-382b-4791-badf-444a7163f103.xml\r\n",
      "71817848-a3a8-46c3-982e-cb85fceab6de.xml\r\n",
      "74bd26ef-afb7-4e6b-9fa0-4e872f4b6200.xml\r\n",
      "770ff828-fdae-448c-999c-614865cc7772.xml\r\n",
      "92db25f2-b245-4564-a20e-2d94e7c0087d.xml\r\n",
      "941f6490-0843-4bda-a99f-a976343c945f.xml\r\n",
      "9af56351-0c6a-46e1-bf8b-0ba9c57b1fc3.xml\r\n",
      "a3608c2a-e1c0-48b4-9b52-5f1ece84f917.xml\r\n",
      "bd0b22b3-55de-41ec-ad45-c7d4dcae54f7.xml\r\n",
      "c0d8de87-e610-4705-b075-434577c5a2c5.xml\r\n",
      "cc083026-85b4-4c5a-bae6-94b6339a9532.xml\r\n",
      "d7a659ef-847d-476a-9a81-fa1b088a50c0.xml\r\n",
      "e387a337-7d69-4aa7-8113-8d1d7122d0d6.xml\r\n",
      "instances_yellowtail.json\r\n",
      "trainval.txt\r\n"
     ]
    }
   ],
   "source": [
    "!ls ../data/annotations/"
   ]
  },
  {
   "cell_type": "markdown",
   "metadata": {},
   "source": [
    "# overview data"
   ]
  },
  {
   "cell_type": "code",
   "execution_count": 4,
   "metadata": {},
   "outputs": [],
   "source": [
    "import xmltodict"
   ]
  },
  {
   "cell_type": "code",
   "execution_count": 5,
   "metadata": {},
   "outputs": [],
   "source": [
    "xml_file = \"../data/annotations/1816700b-8029-415d-b28d-4a4f3d31f1fb.xml\""
   ]
  },
  {
   "cell_type": "code",
   "execution_count": 6,
   "metadata": {},
   "outputs": [],
   "source": [
    "ann = xmltodict.parse(open(xml_file, 'r').read())['annotation']"
   ]
  },
  {
   "cell_type": "code",
   "execution_count": 7,
   "metadata": {},
   "outputs": [
    {
     "data": {
      "text/plain": [
       "OrderedDict([(u'folder', u'images'),\n",
       "             (u'filename', u'1816700b-8029-415d-b28d-4a4f3d31f1fb.png'),\n",
       "             (u'path',\n",
       "              u'/Users/makoto_sato/umitron-fish-detection/data/images/1816700b-8029-415d-b28d-4a4f3d31f1fb.png'),\n",
       "             (u'source', OrderedDict([(u'database', u'Unknown')])),\n",
       "             (u'size',\n",
       "              OrderedDict([(u'width', u'1280'),\n",
       "                           (u'height', u'480'),\n",
       "                           (u'depth', u'3')])),\n",
       "             (u'segmented', u'0'),\n",
       "             (u'object',\n",
       "              [OrderedDict([(u'name', u'yellowtail'),\n",
       "                            (u'pose', u'Unspecified'),\n",
       "                            (u'truncated', u'0'),\n",
       "                            (u'difficult', u'0'),\n",
       "                            (u'bndbox',\n",
       "                             OrderedDict([(u'xmin', u'121'),\n",
       "                                          (u'ymin', u'81'),\n",
       "                                          (u'xmax', u'214'),\n",
       "                                          (u'ymax', u'352')]))]),\n",
       "               OrderedDict([(u'name', u'yellowtail'),\n",
       "                            (u'pose', u'Unspecified'),\n",
       "                            (u'truncated', u'0'),\n",
       "                            (u'difficult', u'0'),\n",
       "                            (u'bndbox',\n",
       "                             OrderedDict([(u'xmin', u'315'),\n",
       "                                          (u'ymin', u'8'),\n",
       "                                          (u'xmax', u'399'),\n",
       "                                          (u'ymax', u'231')]))]),\n",
       "               OrderedDict([(u'name', u'yellowtail'),\n",
       "                            (u'pose', u'Unspecified'),\n",
       "                            (u'truncated', u'0'),\n",
       "                            (u'difficult', u'0'),\n",
       "                            (u'bndbox',\n",
       "                             OrderedDict([(u'xmin', u'1075'),\n",
       "                                          (u'ymin', u'89'),\n",
       "                                          (u'xmax', u'1155'),\n",
       "                                          (u'ymax', u'305')]))]),\n",
       "               OrderedDict([(u'name', u'yellowtail'),\n",
       "                            (u'pose', u'Unspecified'),\n",
       "                            (u'truncated', u'0'),\n",
       "                            (u'difficult', u'0'),\n",
       "                            (u'bndbox',\n",
       "                             OrderedDict([(u'xmin', u'707'),\n",
       "                                          (u'ymin', u'179'),\n",
       "                                          (u'xmax', u'818'),\n",
       "                                          (u'ymax', u'474')]))]),\n",
       "               OrderedDict([(u'name', u'yellowtail'),\n",
       "                            (u'pose', u'Unspecified'),\n",
       "                            (u'truncated', u'0'),\n",
       "                            (u'difficult', u'0'),\n",
       "                            (u'bndbox',\n",
       "                             OrderedDict([(u'xmin', u'415'),\n",
       "                                          (u'ymin', u'89'),\n",
       "                                          (u'xmax', u'501'),\n",
       "                                          (u'ymax', u'297')]))]),\n",
       "               OrderedDict([(u'name', u'yellowtail'),\n",
       "                            (u'pose', u'Unspecified'),\n",
       "                            (u'truncated', u'0'),\n",
       "                            (u'difficult', u'0'),\n",
       "                            (u'bndbox',\n",
       "                             OrderedDict([(u'xmin', u'969'),\n",
       "                                          (u'ymin', u'13'),\n",
       "                                          (u'xmax', u'1050'),\n",
       "                                          (u'ymax', u'239')]))]),\n",
       "               OrderedDict([(u'name', u'yellowtail'),\n",
       "                            (u'pose', u'Unspecified'),\n",
       "                            (u'truncated', u'0'),\n",
       "                            (u'difficult', u'0'),\n",
       "                            (u'bndbox',\n",
       "                             OrderedDict([(u'xmin', u'40'),\n",
       "                                          (u'ymin', u'155'),\n",
       "                                          (u'xmax', u'165'),\n",
       "                                          (u'ymax', u'465')]))]),\n",
       "               OrderedDict([(u'name', u'yellowtail'),\n",
       "                            (u'pose', u'Unspecified'),\n",
       "                            (u'truncated', u'0'),\n",
       "                            (u'difficult', u'0'),\n",
       "                            (u'bndbox',\n",
       "                             OrderedDict([(u'xmin', u'776'),\n",
       "                                          (u'ymin', u'89'),\n",
       "                                          (u'xmax', u'865'),\n",
       "                                          (u'ymax', u'360')]))])])])"
      ]
     },
     "execution_count": 7,
     "metadata": {},
     "output_type": "execute_result"
    }
   ],
   "source": [
    "ann"
   ]
  },
  {
   "cell_type": "code",
   "execution_count": 8,
   "metadata": {},
   "outputs": [
    {
     "data": {
      "text/plain": [
       "(u'1280', u'480', u'3')"
      ]
     },
     "execution_count": 8,
     "metadata": {},
     "output_type": "execute_result"
    }
   ],
   "source": [
    "# size\n",
    "width = ann['size']['width']\n",
    "height = ann['size']['height']\n",
    "depth = ann['size']['depth']\n",
    "width, height, depth"
   ]
  },
  {
   "cell_type": "code",
   "execution_count": 9,
   "metadata": {},
   "outputs": [
    {
     "data": {
      "text/plain": [
       "(1280, 480, 3)"
      ]
     },
     "execution_count": 9,
     "metadata": {},
     "output_type": "execute_result"
    }
   ],
   "source": [
    "# same..\n",
    "locals().update({k: int(v) for k, v in ann['size'].items()})\n",
    "width, height, depth"
   ]
  },
  {
   "cell_type": "code",
   "execution_count": 10,
   "metadata": {},
   "outputs": [
    {
     "data": {
      "text/plain": [
       "u'1816700b-8029-415d-b28d-4a4f3d31f1fb.png'"
      ]
     },
     "execution_count": 10,
     "metadata": {},
     "output_type": "execute_result"
    }
   ],
   "source": [
    "filename = ann['filename']\n",
    "filename"
   ]
  },
  {
   "cell_type": "code",
   "execution_count": 11,
   "metadata": {},
   "outputs": [],
   "source": [
    "# objects\n",
    "objs = ann['object']\n",
    "obj = objs[0]"
   ]
  },
  {
   "cell_type": "code",
   "execution_count": 12,
   "metadata": {},
   "outputs": [
    {
     "data": {
      "text/plain": [
       "(121, 214, 81, 352)"
      ]
     },
     "execution_count": 12,
     "metadata": {},
     "output_type": "execute_result"
    }
   ],
   "source": [
    "# bbox\n",
    "locals().update({k: int(v) for k, v in obj['bndbox'].items()})\n",
    "xmin, xmax, ymin, ymax"
   ]
  },
  {
   "cell_type": "code",
   "execution_count": 13,
   "metadata": {},
   "outputs": [
    {
     "data": {
      "text/plain": [
       "u'yellowtail'"
      ]
     },
     "execution_count": 13,
     "metadata": {},
     "output_type": "execute_result"
    }
   ],
   "source": [
    "# category name\n",
    "category_name = obj['name']\n",
    "category_name"
   ]
  },
  {
   "cell_type": "markdown",
   "metadata": {},
   "source": [
    "# create coco\n",
    "\n",
    "(licence ->) image, category -> annotation"
   ]
  },
  {
   "cell_type": "code",
   "execution_count": 14,
   "metadata": {},
   "outputs": [],
   "source": [
    "import datetime\n",
    "\n",
    "INFO = {\n",
    "    \"description\": \"Example Dataset\",\n",
    "    \"url\": \"https://github.com/umitron\",\n",
    "    \"version\": \"0.1\",\n",
    "    \"year\": 2018,\n",
    "    \"contributor\": \"umitron\",\n",
    "    \"date_created\": datetime.datetime.utcnow().isoformat(' ')\n",
    "}\n",
    "\n",
    "LICENSES = [\n",
    "    {\n",
    "        \"id\": 1,\n",
    "        \"name\": \"Attribution-NonCommercial-ShareAlike License\",\n",
    "        \"url\": \"http://creativecommons.org/licenses/by-nc-sa/2.0/\"\n",
    "    }\n",
    "]"
   ]
  },
  {
   "cell_type": "code",
   "execution_count": 16,
   "metadata": {
    "scrolled": false
   },
   "outputs": [],
   "source": [
    "import json\n",
    "import os\n",
    "import glob\n",
    "\n",
    "\n",
    "coco_output = {\n",
    "    \"info\": INFO,\n",
    "    \"licenses\": LICENSES,\n",
    "    \"categories\": [],\n",
    "    \"images\": [],\n",
    "    \"annotations\": []\n",
    "}\n",
    "\n",
    "image_id = 1  # counter for image\n",
    "annotation_id = 1  # counter for annotation\n",
    "categories = {}  # category dict\n",
    "SUPERCATEGORY = 'fish'  # fixed\n",
    "\n",
    "\n",
    "xml_files = glob.glob(\"../data/annotations/*.xml\")\n",
    "\n",
    "for xml_file in xml_files:\n",
    "    # load image\n",
    "    ann = xmltodict.parse(open(xml_file, 'r').read())['annotation']\n",
    "    \n",
    "    # set width, height, depth\n",
    "    locals().update({k: int(v) for k, v in ann['size'].items()})\n",
    "    \n",
    "    # new image\n",
    "    image = {\n",
    "        \"id\": image_id,\n",
    "        \"licence\": 1,\n",
    "        \"file_name\": os.path.basename(ann['filename']),\n",
    "        \"width\": width,\n",
    "        \"height\": height,\n",
    "    }\n",
    "    coco_output[\"images\"].append(image)\n",
    "    \n",
    "    for obj in ann['object']:\n",
    "        # set bounding box props\n",
    "        locals().update({k: int(v) for k, v in obj['bndbox'].items()})\n",
    "        x, y = xmin, ymin\n",
    "        w, h = xmax - xmin, ymax - ymin\n",
    "        \n",
    "        # check category_id\n",
    "        category_name = obj['name']\n",
    "        if category_name in categories:\n",
    "            category_id = categories[category_name]['id']\n",
    "        else:\n",
    "            category_id = len(categories) + 1\n",
    "            categories[category_name] = {\n",
    "                'id': category_id,\n",
    "                'name': category_name,\n",
    "                'supercategory': SUPERCATEGORY,\n",
    "            }\n",
    "        \n",
    "        # new annotation\n",
    "        annotation = {\n",
    "            \"id\": annotation_id,\n",
    "            \"image_id\": image_id,\n",
    "            \"category_id\": category_id,\n",
    "            \"segmentation\": [[xmin, ymin, xmin, ymax, xmax, ymax, xmax, ymin]],\n",
    "            \"bbox\": [x, y, w, h],\n",
    "            \"area\": w * h,\n",
    "            \"iscrowd\": 0,\n",
    "            \"ignore\": 0\n",
    "        }\n",
    "        coco_output['annotations'].append(annotation)\n",
    "\n",
    "        annotation_id += 1\n",
    "        \n",
    "    image_id += 1\n",
    "\n",
    "coco_output['categories'] = categories.values()"
   ]
  },
  {
   "cell_type": "code",
   "execution_count": 17,
   "metadata": {},
   "outputs": [],
   "source": [
    "# write to json file\n",
    "with open('../data/annotations/instances_yellowtail.json', 'w') as output_json_file:\n",
    "    json.dump(coco_output, output_json_file)"
   ]
  },
  {
   "cell_type": "markdown",
   "metadata": {},
   "source": [
    "# check"
   ]
  },
  {
   "cell_type": "code",
   "execution_count": 18,
   "metadata": {},
   "outputs": [],
   "source": [
    "import sys\n",
    "sys.path.append(\"../tensorflow/models/research\")"
   ]
  },
  {
   "cell_type": "code",
   "execution_count": 19,
   "metadata": {},
   "outputs": [],
   "source": [
    "%matplotlib inline\n",
    "from pycocotools.coco import COCO\n",
    "import numpy as np\n",
    "import skimage.io as io\n",
    "import matplotlib.pyplot as plt\n",
    "import pylab\n",
    "pylab.rcParams['figure.figsize'] = (10.0, 10.0)"
   ]
  },
  {
   "cell_type": "code",
   "execution_count": 20,
   "metadata": {},
   "outputs": [],
   "source": [
    "image_directory = '../data/images/'\n",
    "annotation_file = '../data/annotations/instances_yellowtail.json'"
   ]
  },
  {
   "cell_type": "code",
   "execution_count": 21,
   "metadata": {},
   "outputs": [
    {
     "name": "stdout",
     "output_type": "stream",
     "text": [
      "loading annotations into memory...\n",
      "Done (t=0.01s)\n",
      "creating index...\n",
      "index created!\n"
     ]
    }
   ],
   "source": [
    "example_coco = COCO(annotation_file)"
   ]
  },
  {
   "cell_type": "code",
   "execution_count": 22,
   "metadata": {},
   "outputs": [
    {
     "name": "stdout",
     "output_type": "stream",
     "text": [
      "Custom COCO categories: \n",
      "yellowtail\n",
      "\n",
      "Custom COCO supercategories: \n",
      "fish\n"
     ]
    }
   ],
   "source": [
    "categories = example_coco.loadCats(example_coco.getCatIds())\n",
    "category_names = [category['name'] for category in categories]\n",
    "print('Custom COCO categories: \\n{}\\n'.format(' '.join(category_names)))\n",
    "\n",
    "category_names = set([category['supercategory'] for category in categories])\n",
    "print('Custom COCO supercategories: \\n{}'.format(' '.join(category_names)))"
   ]
  },
  {
   "cell_type": "code",
   "execution_count": 23,
   "metadata": {},
   "outputs": [],
   "source": [
    "category_ids = example_coco.getCatIds(catNms=['yellowtail'])\n",
    "image_ids = example_coco.getImgIds(catIds=category_ids)\n",
    "image_data = example_coco.loadImgs(image_ids[np.random.randint(0, len(image_ids))])[0]"
   ]
  },
  {
   "cell_type": "code",
   "execution_count": 24,
   "metadata": {},
   "outputs": [
    {
     "data": {
      "text/plain": [
       "{u'file_name': u'68306358-a039-428b-a0c9-c40a6ee95c49.png',\n",
       " u'height': 480,\n",
       " u'id': 16,\n",
       " u'licence': 1,\n",
       " u'width': 1280}"
      ]
     },
     "execution_count": 24,
     "metadata": {},
     "output_type": "execute_result"
    }
   ],
   "source": [
    "image_data"
   ]
  },
  {
   "cell_type": "code",
   "execution_count": 25,
   "metadata": {},
   "outputs": [
    {
     "data": {
      "image/png": "[encoded data removed]",
      "text/plain": [
       "<matplotlib.figure.Figure at 0x7f544b4285d0>"
      ]
     },
     "metadata": {},
     "output_type": "display_data"
    }
   ],
   "source": [
    "image = io.imread(image_directory + image_data['file_name'])\n",
    "plt.imshow(image); plt.axis('off')\n",
    "annotation_ids = example_coco.getAnnIds(imgIds=image_data['id'], catIds=category_ids, iscrowd=None)\n",
    "annotations = example_coco.loadAnns(annotation_ids)\n",
    "example_coco.showAnns(annotations)"
   ]
  },
  {
   "cell_type": "code",
   "execution_count": null,
   "metadata": {},
   "outputs": [],
   "source": []
  }
 ],
 "metadata": {
  "kernelspec": {
   "display_name": "Python 2",
   "language": "python",
   "name": "python2"
  },
  "language_info": {
   "codemirror_mode": {
    "name": "ipython",
    "version": 2
   },
   "file_extension": ".py",
   "mimetype": "text/x-python",
   "name": "python",
   "nbconvert_exporter": "python",
   "pygments_lexer": "ipython2",
   "version": "2.7.12"
  }
 },
 "nbformat": 4,
 "nbformat_minor": 2
}
