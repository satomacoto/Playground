{
 "cells": [
  {
   "cell_type": "markdown",
   "metadata": {},
   "source": [
    "# tensorflowの基本"
   ]
  },
  {
   "cell_type": "markdown",
   "metadata": {},
   "source": [
    "http://docs.fabo.io/tensorflow/model_basic/tensorflow_hello.html"
   ]
  },
  {
   "cell_type": "code",
   "execution_count": 1,
   "metadata": {},
   "outputs": [
    {
     "name": "stderr",
     "output_type": "stream",
     "text": [
      "/usr/local/lib/python2.7/dist-packages/h5py/__init__.py:36: FutureWarning: Conversion of the second argument of issubdtype from `float` to `np.floating` is deprecated. In future, it will be treated as `np.float64 == np.dtype(float).type`.\n",
      "  from ._conv import register_converters as _register_converters\n"
     ]
    },
    {
     "name": "stdout",
     "output_type": "stream",
     "text": [
      "[name: \"/device:CPU:0\"\n",
      "device_type: \"CPU\"\n",
      "memory_limit: 268435456\n",
      "locality {\n",
      "}\n",
      "incarnation: 17115982353608518845\n",
      "]\n"
     ]
    }
   ],
   "source": [
    "import numpy as np\n",
    "import tensorflow as tf\n",
    "from tensorflow.python.client import device_lib; print(device_lib.list_local_devices())"
   ]
  },
  {
   "cell_type": "code",
   "execution_count": 2,
   "metadata": {},
   "outputs": [
    {
     "name": "stdout",
     "output_type": "stream",
     "text": [
      "[[22. 28.]\n",
      " [49. 64.]]\n"
     ]
    }
   ],
   "source": [
    "# Creates a graph.\n",
    "with tf.device('/gpu:0'):\n",
    "    a = tf.constant([1.0, 2.0, 3.0, 4.0, 5.0, 6.0], shape=[2, 3], name='a')\n",
    "    b = tf.constant([1.0, 2.0, 3.0, 4.0, 5.0, 6.0], shape=[3, 2], name='b')\n",
    "    c = tf.matmul(a, b)\n",
    "# Creates a session with allow_soft_placement and log_device_placement set\n",
    "# to True.\n",
    "sess = tf.Session(config=tf.ConfigProto(\n",
    "       allow_soft_placement=True, log_device_placement=True))\n",
    "# Runs the op.\n",
    "print(sess.run(c))"
   ]
  },
  {
   "cell_type": "markdown",
   "metadata": {},
   "source": [
    "Constant\n",
    "\n",
    "定数"
   ]
  },
  {
   "cell_type": "code",
   "execution_count": 2,
   "metadata": {},
   "outputs": [
    {
     "data": {
      "text/plain": [
       "<tf.Tensor 'Const:0' shape=() dtype=int32>"
      ]
     },
     "execution_count": 2,
     "metadata": {},
     "output_type": "execute_result"
    }
   ],
   "source": [
    "tf.constant(0)"
   ]
  },
  {
   "cell_type": "markdown",
   "metadata": {},
   "source": [
    "Variable\n",
    "\n",
    "変数"
   ]
  },
  {
   "cell_type": "code",
   "execution_count": 3,
   "metadata": {},
   "outputs": [
    {
     "data": {
      "text/plain": [
       "<tf.Variable 'Variable:0' shape=() dtype=int32_ref>"
      ]
     },
     "execution_count": 3,
     "metadata": {},
     "output_type": "execute_result"
    }
   ],
   "source": [
    "tf.Variable(0)"
   ]
  },
  {
   "cell_type": "markdown",
   "metadata": {},
   "source": [
    "Placeholder"
   ]
  },
  {
   "cell_type": "code",
   "execution_count": 4,
   "metadata": {},
   "outputs": [
    {
     "data": {
      "text/plain": [
       "<tf.Tensor 'Placeholder:0' shape=<unknown> dtype=float32>"
      ]
     },
     "execution_count": 4,
     "metadata": {},
     "output_type": "execute_result"
    }
   ],
   "source": [
    "tf.placeholder(tf.float32)"
   ]
  },
  {
   "cell_type": "markdown",
   "metadata": {},
   "source": [
    "# 型・次元数・ランク・サイズ"
   ]
  },
  {
   "cell_type": "code",
   "execution_count": 5,
   "metadata": {},
   "outputs": [],
   "source": [
    "x = tf.constant(np.random.randn(3, 3))"
   ]
  },
  {
   "cell_type": "code",
   "execution_count": 6,
   "metadata": {},
   "outputs": [],
   "source": [
    "sess = tf.Session()"
   ]
  },
  {
   "cell_type": "code",
   "execution_count": 7,
   "metadata": {},
   "outputs": [
    {
     "name": "stdout",
     "output_type": "stream",
     "text": [
      "[[ 0.26271023 -0.62050682  0.04540681]\n",
      " [-0.28963652  0.97964158 -1.41882854]\n",
      " [ 0.71841375  0.47155554  0.47474094]]\n"
     ]
    }
   ],
   "source": [
    "print(sess.run(x))"
   ]
  },
  {
   "cell_type": "code",
   "execution_count": 8,
   "metadata": {},
   "outputs": [
    {
     "name": "stdout",
     "output_type": "stream",
     "text": [
      "<dtype: 'float64'>\n"
     ]
    }
   ],
   "source": [
    "print(x.dtype)"
   ]
  },
  {
   "cell_type": "code",
   "execution_count": 9,
   "metadata": {},
   "outputs": [
    {
     "name": "stdout",
     "output_type": "stream",
     "text": [
      "[3 3]\n"
     ]
    }
   ],
   "source": [
    "print(sess.run(tf.shape(x)))"
   ]
  },
  {
   "cell_type": "code",
   "execution_count": 10,
   "metadata": {},
   "outputs": [
    {
     "name": "stdout",
     "output_type": "stream",
     "text": [
      "2\n"
     ]
    }
   ],
   "source": [
    "print(sess.run(tf.rank(x)))"
   ]
  },
  {
   "cell_type": "code",
   "execution_count": 11,
   "metadata": {},
   "outputs": [
    {
     "name": "stdout",
     "output_type": "stream",
     "text": [
      "9\n"
     ]
    }
   ],
   "source": [
    "print(sess.run(tf.size(x)))"
   ]
  },
  {
   "cell_type": "markdown",
   "metadata": {},
   "source": [
    "# 演算"
   ]
  },
  {
   "cell_type": "code",
   "execution_count": 12,
   "metadata": {},
   "outputs": [],
   "source": [
    "# 2x2のプレースホルダー\n",
    "x = tf.placeholder(tf.float32, shape=(2, 2))\n",
    "y = tf.placeholder(tf.float32, shape=(2, 2))"
   ]
  },
  {
   "cell_type": "code",
   "execution_count": 13,
   "metadata": {},
   "outputs": [],
   "source": [
    "ma = np.arange(1, 5).reshape(2, 2)\n",
    "mb = np.arange(4, 8).reshape(2, 2)"
   ]
  },
  {
   "cell_type": "code",
   "execution_count": 14,
   "metadata": {},
   "outputs": [],
   "source": [
    "add_op = tf.add(x, y)"
   ]
  },
  {
   "cell_type": "code",
   "execution_count": 15,
   "metadata": {},
   "outputs": [],
   "source": [
    "sess = tf.Session()"
   ]
  },
  {
   "cell_type": "code",
   "execution_count": null,
   "metadata": {},
   "outputs": [],
   "source": [
    "sess.run(add_op, feed_dict={x: ma, y: mb}) == ma + mb"
   ]
  },
  {
   "cell_type": "code",
   "execution_count": 17,
   "metadata": {},
   "outputs": [
    {
     "data": {
      "text/plain": [
       "array([[ True,  True],\n",
       "       [ True,  True]])"
      ]
     },
     "execution_count": 17,
     "metadata": {},
     "output_type": "execute_result"
    }
   ],
   "source": [
    "sub_op = tf.subtract(x, y)\n",
    "sess.run(sub_op, feed_dict={x: ma, y: mb}) == ma - mb"
   ]
  },
  {
   "cell_type": "code",
   "execution_count": 18,
   "metadata": {},
   "outputs": [
    {
     "data": {
      "text/plain": [
       "array([[ True,  True],\n",
       "       [ True,  True]])"
      ]
     },
     "execution_count": 18,
     "metadata": {},
     "output_type": "execute_result"
    }
   ],
   "source": [
    "mul_op = tf.matmul(x, y)\n",
    "sess.run(mul_op, feed_dict={x: ma, y: mb}) == np.matmul(ma, mb)"
   ]
  },
  {
   "cell_type": "code",
   "execution_count": 19,
   "metadata": {},
   "outputs": [
    {
     "data": {
      "text/plain": [
       "array([[ True,  True],\n",
       "       [ True,  True]])"
      ]
     },
     "execution_count": 19,
     "metadata": {},
     "output_type": "execute_result"
    }
   ],
   "source": [
    "dot_op = tf.multiply(x, y)\n",
    "sess.run(dot_op, feed_dict={x: ma, y: mb}) == ma * mb"
   ]
  },
  {
   "cell_type": "markdown",
   "metadata": {},
   "source": [
    "## 例"
   ]
  },
  {
   "cell_type": "code",
   "execution_count": 20,
   "metadata": {},
   "outputs": [
    {
     "name": "stdout",
     "output_type": "stream",
     "text": [
      "1\n",
      "2\n",
      "3\n"
     ]
    }
   ],
   "source": [
    "cnt = tf.Variable(0, name=\"cnt\")\n",
    "inc = tf.constant(1, name=\"inc\")\n",
    "\n",
    "add_op = tf.add(cnt, inc)\n",
    "up_op = tf.assign(cnt, add_op)  # !!\n",
    "\n",
    "with tf.Session() as sess:\n",
    "    sess.run(tf.global_variables_initializer())\n",
    "    \n",
    "    print(sess.run(up_op))\n",
    "    print(sess.run(up_op))\n",
    "    print(sess.run(up_op))"
   ]
  },
  {
   "cell_type": "code",
   "execution_count": 21,
   "metadata": {},
   "outputs": [
    {
     "name": "stdout",
     "output_type": "stream",
     "text": [
      "4\n",
      "6\n"
     ]
    }
   ],
   "source": [
    "x = tf.constant(1, name=\"x\")\n",
    "y = tf.placeholder(tf.int32, name=\"y\")\n",
    "\n",
    "add_op = tf.add(x, y)\n",
    "\n",
    "with tf.Session() as sess:    \n",
    "    print(sess.run(add_op, feed_dict={y: 3}))\n",
    "    print(sess.run(add_op, feed_dict={y: 5}))"
   ]
  },
  {
   "cell_type": "markdown",
   "metadata": {},
   "source": [
    "# L2正則化"
   ]
  },
  {
   "cell_type": "code",
   "execution_count": 22,
   "metadata": {},
   "outputs": [],
   "source": [
    "tf.set_random_seed(42)\n",
    "x = tf.random_normal([10])\n",
    "l2_loss_op = tf.nn.l2_loss(x)"
   ]
  },
  {
   "cell_type": "code",
   "execution_count": 23,
   "metadata": {},
   "outputs": [
    {
     "name": "stdout",
     "output_type": "stream",
     "text": [
      "[array([ 2.5322015 , -0.51309204,  0.27140725, -0.47904888,  0.03570453,\n",
      "        2.3489568 , -0.08404603, -0.28674406,  0.3760416 ,  0.7895334 ],\n",
      "      dtype=float32), 6.6756935]\n"
     ]
    }
   ],
   "source": [
    "with tf.Session() as sess:\n",
    "    print(sess.run([x, l2_loss_op]))"
   ]
  },
  {
   "cell_type": "markdown",
   "metadata": {},
   "source": [
    "# モデル保存と読み込み"
   ]
  },
  {
   "cell_type": "code",
   "execution_count": 24,
   "metadata": {},
   "outputs": [],
   "source": [
    "tf.reset_default_graph()"
   ]
  },
  {
   "cell_type": "code",
   "execution_count": 25,
   "metadata": {},
   "outputs": [
    {
     "name": "stdout",
     "output_type": "stream",
     "text": [
      "3\n"
     ]
    }
   ],
   "source": [
    "import os\n",
    "from tensorflow import gfile\n",
    "\n",
    "a = tf.placeholder(tf.int32, name=\"input_a\")\n",
    "b = tf.placeholder(tf.int32, name=\"input_b\")\n",
    "add_op = tf.add(a, b, name=\"add_op\")\n",
    "\n",
    "MODEL_DIR = \"./tmp/data_model/\"\n",
    "\n",
    "with tf.Session() as sess:\n",
    "    os.system(\"rm -rf \" + MODEL_DIR)\n",
    "    tf.train.write_graph(sess.graph_def, MODEL_DIR, \"model.pb\", as_text=False)\n",
    "    tf.train.write_graph(sess.graph_def, MODEL_DIR, 'model.pbtxt', as_text=True)\n",
    "    print(sess.run(add_op, feed_dict={a: 1, b: 2}))"
   ]
  },
  {
   "cell_type": "code",
   "execution_count": 26,
   "metadata": {
    "scrolled": false
   },
   "outputs": [
    {
     "name": "stdout",
     "output_type": "stream",
     "text": [
      "\r\n",
      "2\r\n",
      "\u0007input_a\u0012\u000b",
      "Placeholder*\u000b",
      "\r\n",
      "\u0005dtype\u0012\u00020\u0003*\r",
      "\r\n",
      "\u0005shape\u0012\u0004:\u0002\u0018\u0001\r\n",
      "2\r\n",
      "\u0007input_b\u0012\u000b",
      "Placeholder*\r",
      "\r\n",
      "\u0005shape\u0012\u0004:\u0002\u0018\u0001*\u000b",
      "\r\n",
      "\u0005dtype\u0012\u00020\u0003\r\n",
      "(\r\n",
      "\u0006add_op\u0012\u0003Add\u001a\u0007input_a\u001a\u0007input_b*\u0007\r\n",
      "\u0001T\u0012\u00020\u0003\"\u0002\b\u001a"
     ]
    }
   ],
   "source": [
    "!cat ./tmp/data_model/model.pb"
   ]
  },
  {
   "cell_type": "code",
   "execution_count": 27,
   "metadata": {
    "scrolled": false
   },
   "outputs": [
    {
     "name": "stdout",
     "output_type": "stream",
     "text": [
      "node {\r\n",
      "  name: \"input_a\"\r\n",
      "  op: \"Placeholder\"\r\n",
      "  attr {\r\n",
      "    key: \"dtype\"\r\n",
      "    value {\r\n",
      "      type: DT_INT32\r\n",
      "    }\r\n",
      "  }\r\n",
      "  attr {\r\n",
      "    key: \"shape\"\r\n",
      "    value {\r\n",
      "      shape {\r\n",
      "        unknown_rank: true\r\n",
      "      }\r\n",
      "    }\r\n",
      "  }\r\n",
      "}\r\n",
      "node {\r\n",
      "  name: \"input_b\"\r\n",
      "  op: \"Placeholder\"\r\n",
      "  attr {\r\n",
      "    key: \"dtype\"\r\n",
      "    value {\r\n",
      "      type: DT_INT32\r\n",
      "    }\r\n",
      "  }\r\n",
      "  attr {\r\n",
      "    key: \"shape\"\r\n",
      "    value {\r\n",
      "      shape {\r\n",
      "        unknown_rank: true\r\n",
      "      }\r\n",
      "    }\r\n",
      "  }\r\n",
      "}\r\n",
      "node {\r\n",
      "  name: \"add_op\"\r\n",
      "  op: \"Add\"\r\n",
      "  input: \"input_a\"\r\n",
      "  input: \"input_b\"\r\n",
      "  attr {\r\n",
      "    key: \"T\"\r\n",
      "    value {\r\n",
      "      type: DT_INT32\r\n",
      "    }\r\n",
      "  }\r\n",
      "}\r\n",
      "versions {\r\n",
      "  producer: 26\r\n",
      "}\r\n"
     ]
    }
   ],
   "source": [
    "!cat ./tmp/data_model/model.pbtxt"
   ]
  },
  {
   "cell_type": "code",
   "execution_count": 28,
   "metadata": {},
   "outputs": [
    {
     "name": "stdout",
     "output_type": "stream",
     "text": [
      "op_name=input_a, output_name=input_a:0\n",
      "op_name=input_b, output_name=input_b:0\n",
      "op_name=add_op, output_name=add_op:0\n"
     ]
    }
   ],
   "source": [
    "def show_graph():\n",
    "    for op in tf.get_default_graph().get_operations():\n",
    "        for output in op.outputs:\n",
    "            print(\"op_name={}, output_name={}\".format(op.name, output.name))\n",
    "show_graph()"
   ]
  },
  {
   "cell_type": "code",
   "execution_count": 29,
   "metadata": {},
   "outputs": [],
   "source": [
    "with gfile.FastGFile(MODEL_DIR + \"/model.pb\", \"rb\") as f:\n",
    "    graph_def = tf.GraphDef()\n",
    "    graph_def.ParseFromString(f.read())\n",
    "    tf.import_graph_def(graph_def, name=\"\")"
   ]
  },
  {
   "cell_type": "code",
   "execution_count": 30,
   "metadata": {},
   "outputs": [
    {
     "name": "stdout",
     "output_type": "stream",
     "text": [
      "op_name=input_a, output_name=input_a:0\n",
      "op_name=input_b, output_name=input_b:0\n",
      "op_name=add_op, output_name=add_op:0\n",
      "op_name=input_a_1, output_name=input_a_1:0\n",
      "op_name=input_b_1, output_name=input_b_1:0\n",
      "op_name=add_op_1, output_name=add_op_1:0\n"
     ]
    }
   ],
   "source": [
    "show_graph()"
   ]
  },
  {
   "cell_type": "code",
   "execution_count": 31,
   "metadata": {},
   "outputs": [
    {
     "name": "stdout",
     "output_type": "stream",
     "text": [
      "(<tf.Tensor 'input_a:0' shape=<unknown> dtype=int32>, <tf.Tensor 'input_b:0' shape=<unknown> dtype=int32>)\n",
      "Tensor(\"add_op:0\", dtype=int32)\n",
      "110\n"
     ]
    }
   ],
   "source": [
    "with tf.Session() as sess:\n",
    "    load_a = sess.graph.get_tensor_by_name(\"input_a:0\")\n",
    "    load_b = sess.graph.get_tensor_by_name(\"input_b:0\")\n",
    "    print(load_a, load_b)\n",
    "    load_op = sess.graph.get_tensor_by_name(\"add_op:0\")\n",
    "    print(load_op)\n",
    "    \n",
    "    print(sess.run(load_op, feed_dict={load_a: 11, load_b: 99}))"
   ]
  },
  {
   "cell_type": "markdown",
   "metadata": {},
   "source": [
    "# グラフ操作"
   ]
  },
  {
   "cell_type": "code",
   "execution_count": 32,
   "metadata": {},
   "outputs": [
    {
     "name": "stdout",
     "output_type": "stream",
     "text": [
      "*** STEP1 *** []\n",
      "*** STEP2 *** [<tf.Operation 'matrix_x' type=Placeholder>]\n",
      "*** STEP3 *** [<tf.Operation 'matrix_x' type=Placeholder>, <tf.Operation 'matrix_y' type=Placeholder>]\n",
      "*** STEP4 *** [<tf.Operation 'matrix_x' type=Placeholder>, <tf.Operation 'matrix_y' type=Placeholder>, <tf.Operation 'matrix_mul' type=MatMul>]\n"
     ]
    }
   ],
   "source": [
    "from __future__ import division\n",
    "from __future__ import print_function\n",
    "from __future__ import unicode_literals\n",
    "\n",
    "# グラフの初期化\n",
    "tf.reset_default_graph()\n",
    "\n",
    "# グラフの取得\n",
    "graph = tf.get_default_graph()\n",
    "# ノード一覧\n",
    "print(\"*** STEP1 ***\", graph.get_operations())\n",
    "x = tf.placeholder(tf.float32, shape=[2,2], name=\"matrix_x\")  # 2x2 Tensor\n",
    "print(\"*** STEP2 ***\", graph.get_operations())\n",
    "y = tf.placeholder(tf.float32, shape=[2,2], name=\"matrix_y\")  # 2x2 Tensor\n",
    "print(\"*** STEP3 ***\", graph.get_operations())\n",
    "matmul = tf.matmul(x, y, name=\"matrix_mul\")  # xとyの乗算\n",
    "print(\"*** STEP4 ***\", graph.get_operations())"
   ]
  },
  {
   "cell_type": "code",
   "execution_count": 33,
   "metadata": {
    "scrolled": false
   },
   "outputs": [
    {
     "name": "stdout",
     "output_type": "stream",
     "text": [
      "***name*** matrix_x\n",
      "***type*** Placeholder\n",
      "***op_def*** name: \"Placeholder\"\n",
      "output_arg {\n",
      "  name: \"output\"\n",
      "  type_attr: \"dtype\"\n",
      "}\n",
      "attr {\n",
      "  name: \"dtype\"\n",
      "  type: \"type\"\n",
      "}\n",
      "attr {\n",
      "  name: \"shape\"\n",
      "  type: \"shape\"\n",
      "  default_value {\n",
      "    shape {\n",
      "      unknown_rank: true\n",
      "    }\n",
      "  }\n",
      "}\n",
      "\n",
      "***name*** matrix_y\n",
      "***type*** Placeholder\n",
      "***op_def*** name: \"Placeholder\"\n",
      "output_arg {\n",
      "  name: \"output\"\n",
      "  type_attr: \"dtype\"\n",
      "}\n",
      "attr {\n",
      "  name: \"dtype\"\n",
      "  type: \"type\"\n",
      "}\n",
      "attr {\n",
      "  name: \"shape\"\n",
      "  type: \"shape\"\n",
      "  default_value {\n",
      "    shape {\n",
      "      unknown_rank: true\n",
      "    }\n",
      "  }\n",
      "}\n",
      "\n",
      "***name*** matrix_mul\n",
      "***type*** MatMul\n",
      "***op_def*** name: \"MatMul\"\n",
      "input_arg {\n",
      "  name: \"a\"\n",
      "  type_attr: \"T\"\n",
      "}\n",
      "input_arg {\n",
      "  name: \"b\"\n",
      "  type_attr: \"T\"\n",
      "}\n",
      "output_arg {\n",
      "  name: \"product\"\n",
      "  type_attr: \"T\"\n",
      "}\n",
      "attr {\n",
      "  name: \"transpose_a\"\n",
      "  type: \"bool\"\n",
      "  default_value {\n",
      "    b: false\n",
      "  }\n",
      "}\n",
      "attr {\n",
      "  name: \"transpose_b\"\n",
      "  type: \"bool\"\n",
      "  default_value {\n",
      "    b: false\n",
      "  }\n",
      "}\n",
      "attr {\n",
      "  name: \"T\"\n",
      "  type: \"type\"\n",
      "  allowed_values {\n",
      "    list {\n",
      "      type: DT_HALF\n",
      "      type: DT_BFLOAT16\n",
      "      type: DT_FLOAT\n",
      "      type: DT_DOUBLE\n",
      "      type: DT_INT32\n",
      "      type: DT_COMPLEX64\n",
      "      type: DT_COMPLEX128\n",
      "    }\n",
      "  }\n",
      "}\n",
      "\n"
     ]
    }
   ],
   "source": [
    "# グラフの初期化\n",
    "tf.reset_default_graph()\n",
    "\n",
    "# グラフの取得\n",
    "graph = tf.get_default_graph()\n",
    "\n",
    "# ノード一覧\n",
    "x = tf.placeholder(tf.float32, shape=[2,2], name=\"matrix_x\")  # 2x2 Tensor\n",
    "y = tf.placeholder(tf.float32, shape=[2,2], name=\"matrix_y\")  # 2x2 Tensor\n",
    "matmul = tf.matmul(x, y, name=\"matrix_mul\")  # xとyの乗算\n",
    "\n",
    "for op in graph.get_operations():\n",
    "    # ノードの名前\n",
    "    print(\"***name***\", op.name)\n",
    "    # ノードの型\n",
    "    print(\"***type***\", op.type)\n",
    "    # ノードの情報を表すprotocol buffer\n",
    "    print(\"***op_def***\", op.op_def)"
   ]
  },
  {
   "cell_type": "code",
   "execution_count": 34,
   "metadata": {},
   "outputs": [
    {
     "name": "stdout",
     "output_type": "stream",
     "text": [
      "<tensorflow.python.framework.ops.Graph object at 0x7fe8ace3ac50>\n",
      "<tensorflow.python.framework.ops.Graph object at 0x7fe8ace3ac50>\n"
     ]
    }
   ],
   "source": [
    "# グラフの初期化\n",
    "tf.reset_default_graph()\n",
    "\n",
    "# 足し算を行うグラフを構築\n",
    "a = tf.constant(1, name=\"a\")\n",
    "b = tf.constant(2, name=\"b\")\n",
    "add_op = tf.add(a, b, name=\"add_op\")\n",
    "\n",
    "# 方法(1)\n",
    "g1 = tf.get_default_graph()\n",
    "print(g1)\n",
    "\n",
    "# 方法(2)\n",
    "sess = tf.Session()\n",
    "g2 = sess.graph\n",
    "print(g2)"
   ]
  },
  {
   "cell_type": "code",
   "execution_count": 35,
   "metadata": {},
   "outputs": [],
   "source": [
    "tf.reset_default_graph()"
   ]
  },
  {
   "cell_type": "code",
   "execution_count": 36,
   "metadata": {},
   "outputs": [
    {
     "name": "stdout",
     "output_type": "stream",
     "text": [
      "2\n",
      "0\n"
     ]
    }
   ],
   "source": [
    "tf.reset_default_graph()\n",
    "\n",
    "# 足し算用グラフ\n",
    "tasizan_graph = tf.Graph()\n",
    "\n",
    "# 引き算用グラフ\n",
    "hikizan_graph = tf.Graph()\n",
    "\n",
    "# 引き算グラフの構築\n",
    "with tasizan_graph.as_default():\n",
    "    a = tf.placeholder(tf.int32, shape=[], name=\"a\")\n",
    "    b = tf.placeholder(tf.int32, shape=[], name=\"b\")\n",
    "    add_op = tf.add(a, b, name=\"add_op\")\n",
    "\n",
    "    # 足し算グラフの構築\n",
    "with hikizan_graph.as_default():\n",
    "    x = tf.placeholder(tf.int32, shape=[], name=\"x\")\n",
    "    y = tf.placeholder(tf.int32, shape=[], name=\"y\")\n",
    "    sub_op = tf.subtract(x, y, name=\"sub_op\")\n",
    "\n",
    "# 足し算の実行\n",
    "with tf.Session(graph=tasizan_graph) as sess:\n",
    "    ret = sess.run(add_op, feed_dict={a:1,b:1})\n",
    "    print(ret)\n",
    "\n",
    "# 引き算の実行\n",
    "with tf.Session(graph=hikizan_graph) as sess:\n",
    "    ret = sess.run(sub_op, feed_dict={x:1,y:1})\n",
    "    print(ret)"
   ]
  },
  {
   "cell_type": "code",
   "execution_count": 37,
   "metadata": {
    "scrolled": false
   },
   "outputs": [
    {
     "name": "stdout",
     "output_type": "stream",
     "text": [
      "input_layer/x\n",
      "first_layer/weights\n",
      "first_layer/weights/Assign\n",
      "first_layer/weights/read\n",
      "second_layer/sub_scope/a/initial_value\n",
      "second_layer/sub_scope/a\n",
      "second_layer/sub_scope/a/Assign\n",
      "second_layer/sub_scope/a/read\n",
      "second_layer/sub_scope/b/initial_value\n",
      "second_layer/sub_scope/b\n",
      "second_layer/sub_scope/b/Assign\n",
      "second_layer/sub_scope/b/read\n",
      "second_layer/add\n",
      "second_layer/add_1\n",
      "second_layer/weights\n",
      "second_layer/weights/IsVariableInitialized\n",
      "second_layer/weights/cond/Switch\n",
      "second_layer/weights/cond/switch_t\n",
      "second_layer/weights/cond/switch_f\n",
      "second_layer/weights/cond/pred_id\n",
      "second_layer/weights/cond/read\n",
      "second_layer/weights/cond/read/Switch\n",
      "second_layer/weights/cond/Switch_1\n",
      "second_layer/weights/cond/Merge\n",
      "second_layer/weights/first_layer/weights/read_second_layer/weights_0\n",
      "second_layer/weights/IsVariableInitialized_1\n",
      "second_layer/weights/cond_1/Switch\n",
      "second_layer/weights/cond_1/switch_t\n",
      "second_layer/weights/cond_1/switch_f\n",
      "second_layer/weights/cond_1/pred_id\n",
      "second_layer/weights/cond_1/read\n",
      "second_layer/weights/cond_1/read/Switch\n",
      "second_layer/weights/cond_1/Switch_1\n",
      "second_layer/weights/cond_1/Merge\n",
      "second_layer/weights/second_layer/sub_scope/a/read_second_layer/weights_0\n",
      "second_layer/weights/second_layer/add_second_layer/weights_0\n",
      "second_layer/weights/IsVariableInitialized_2\n",
      "second_layer/weights/cond_2/Switch\n",
      "second_layer/weights/cond_2/switch_t\n",
      "second_layer/weights/cond_2/switch_f\n",
      "second_layer/weights/cond_2/pred_id\n",
      "second_layer/weights/cond_2/read\n",
      "second_layer/weights/cond_2/read/Switch\n",
      "second_layer/weights/cond_2/Switch_1\n",
      "second_layer/weights/cond_2/Merge\n",
      "second_layer/weights/second_layer/sub_scope/b/read_second_layer/weights_0\n",
      "second_layer/weights/second_layer/add_1_second_layer/weights_0\n",
      "second_layer/weights/Assign\n",
      "second_layer/weights/read\n",
      "output_layer/y\n",
      "output_layer/y/IsVariableInitialized\n",
      "output_layer/y/cond/Switch\n",
      "output_layer/y/cond/switch_t\n",
      "output_layer/y/cond/switch_f\n",
      "output_layer/y/cond/pred_id\n",
      "output_layer/y/cond/read\n",
      "output_layer/y/cond/read/Switch\n",
      "output_layer/y/cond/Switch_1\n",
      "output_layer/y/cond/Merge\n",
      "output_layer/y/second_layer/weights/read_output_layer/y_0\n",
      "output_layer/y/Assign\n",
      "output_layer/y/read\n"
     ]
    }
   ],
   "source": [
    "tf.reset_default_graph()\n",
    "\n",
    "# 名前空間の指定\n",
    "with tf.name_scope(\"input_layer\"):\n",
    "    x = tf.placeholder(shape=[64,64], dtype=tf.float32, name=\"x\")\n",
    "with tf.name_scope(\"first_layer\"):\n",
    "    w1 = tf.Variable(x, name=\"weights\")\n",
    "with tf.name_scope(\"second_layer\"):\n",
    "    # ネストを深くすることが可能\n",
    "    with tf.name_scope(\"sub_scope\"):\n",
    "        a = tf.Variable([1.0], name=\"a\")\n",
    "        b = tf.Variable([2.0], name=\"b\")\n",
    "    w2 = tf.Variable(w1+a+b, name=\"weights\")\n",
    "with tf.name_scope(\"output_layer\"):\n",
    "    y = tf.Variable(w2, name=\"y\")\n",
    "g = tf.get_default_graph()\n",
    "# オペレーション一覧を表示する\n",
    "for op in g.get_operations():\n",
    "    print(op.name)\n",
    "# 可視化\n",
    "# tf.summary.FileWriter('graph_log', graph=g)"
   ]
  },
  {
   "cell_type": "code",
   "execution_count": 38,
   "metadata": {},
   "outputs": [
    {
     "name": "stdout",
     "output_type": "stream",
     "text": [
      "Tensor(\"first_layer/weights:0\", shape=(64, 64), dtype=float32_ref)\n",
      "Tensor(\"second_layer/sub_scope/a:0\", shape=(1,), dtype=float32_ref)\n"
     ]
    }
   ],
   "source": [
    "with tf.name_scope(\"input_layer\"):\n",
    "    x = tf.placeholder(shape=[64,64], dtype=tf.float32, name=\"x\")\n",
    "with tf.name_scope(\"first_layer\"):\n",
    "    w1 = tf.Variable(x, name=\"weights\")\n",
    "with tf.name_scope(\"second_layer\"):\n",
    "    with tf.name_scope(\"sub_scope\"):\n",
    "        a = tf.Variable([1.0], name=\"a\")\n",
    "        b = tf.Variable([2.0], name=\"b\")\n",
    "    w2 = tf.Variable(w1+a+b, name=\"weights\")\n",
    "with tf.name_scope(\"output_layer\"):\n",
    "    y = tf.Variable(w2, name=\"y\")\n",
    "g = tf.get_default_graph()\n",
    "w = g.get_tensor_by_name(\"first_layer/weights:0\")\n",
    "print(w)\n",
    "a = g.get_tensor_by_name(\"second_layer/sub_scope/a:0\")\n",
    "print(a)"
   ]
  },
  {
   "cell_type": "markdown",
   "metadata": {},
   "source": [
    "# プロトコルバッファ\n",
    "\n",
    "\n",
    "Protocol buffer\n",
    "\n",
    "```\n",
    "person {\n",
    "  required name: strings \"Taro Tanaka\"\n",
    "  optional age: int32 18\n",
    "  required email: strings \"taro@email.com\"\n",
    "}\n",
    "```\n",
    "\n",
    "XML\n",
    "\n",
    "```\n",
    "<person>\n",
    "    <name>Taro Tanaka</name>\n",
    "    <age>18</age>\n",
    "    <email>taro@email.com</email>\n",
    "</person>\n",
    "```\n",
    "\n",
    "JSON\n",
    "\n",
    "```\n",
    "{\n",
    "    \"person\": {\n",
    "        \"name\": \"Taro Tanaka\",\n",
    "        \"age\": 18,\n",
    "        \"email\": \"taro@email.com\"\n",
    "    }\n",
    "}\n",
    "```\n",
    "\n",
    "TensorFlowにおける流れ\n",
    "\n",
    "1. `Graph`の生成\n",
    "2. `as_graph_def()`による`GraphDef`の生成\n",
    "\n",
    "`Graph`オブジェクトは`Tensor`とオペレーションの情報を持つオブジェクトであり、`GraphDef`オブジェクトはプロトコルバッファ用ライブラリによって生成されるオブジェクト。\n",
    "\n",
    "- テキスト\n",
    "    - 拡張子.pbtxt\n",
    "    - 可読性あり\n",
    "    - 編集可能\n",
    "- バイナリ\n",
    "    - 拡張子.pb\n",
    "    - テキスト形式よりサイズが小さい"
   ]
  },
  {
   "cell_type": "code",
   "execution_count": 39,
   "metadata": {
    "scrolled": false
   },
   "outputs": [
    {
     "name": "stdout",
     "output_type": "stream",
     "text": [
      "node {\n",
      "  name: \"Const\"\n",
      "  op: \"Const\"\n",
      "  attr {\n",
      "    key: \"dtype\"\n",
      "    value {\n",
      "      type: DT_INT32\n",
      "    }\n",
      "  }\n",
      "  attr {\n",
      "    key: \"value\"\n",
      "    value {\n",
      "      tensor {\n",
      "        dtype: DT_INT32\n",
      "        tensor_shape {\n",
      "        }\n",
      "        int_val: 1\n",
      "      }\n",
      "    }\n",
      "  }\n",
      "}\n",
      "node {\n",
      "  name: \"Const_1\"\n",
      "  op: \"Const\"\n",
      "  attr {\n",
      "    key: \"dtype\"\n",
      "    value {\n",
      "      type: DT_INT32\n",
      "    }\n",
      "  }\n",
      "  attr {\n",
      "    key: \"value\"\n",
      "    value {\n",
      "      tensor {\n",
      "        dtype: DT_INT32\n",
      "        tensor_shape {\n",
      "        }\n",
      "        int_val: 2\n",
      "      }\n",
      "    }\n",
      "  }\n",
      "}\n",
      "node {\n",
      "  name: \"Add\"\n",
      "  op: \"Add\"\n",
      "  input: \"Const\"\n",
      "  input: \"Const_1\"\n",
      "  attr {\n",
      "    key: \"T\"\n",
      "    value {\n",
      "      type: DT_INT32\n",
      "    }\n",
      "  }\n",
      "}\n",
      "versions {\n",
      "  producer: 26\n",
      "}\n",
      "\n"
     ]
    }
   ],
   "source": [
    "tf.reset_default_graph()\n",
    "a = tf.constant(1)\n",
    "b = tf.constant(2)\n",
    "c = tf.add(a, b)\n",
    "graph = tf.get_default_graph()\n",
    "graph_def = graph.as_graph_def()\n",
    "print(graph_def)"
   ]
  },
  {
   "cell_type": "markdown",
   "metadata": {},
   "source": [
    "## 学習済みモデルをprotocol bufferに保存\n",
    "\n",
    "- ノードには名前をつける\n",
    "- chekcpoint形式で保存する\n",
    "```\n",
    "saver = tf.train.Saver()\n",
    "... 学習 ...\n",
    "saver.save(sess, MODEL_DIR + '/model.ckpt')\n",
    "```\n",
    "- tf.Variableはconstantに変換してから保存する\n",
    "```\n",
    "graph_util.convert_variables_to_constants()\n",
    "```\n",
    "\n"
   ]
  },
  {
   "cell_type": "markdown",
   "metadata": {},
   "source": [
    "### モデルを作成してckptに保存"
   ]
  },
  {
   "cell_type": "code",
   "execution_count": 40,
   "metadata": {},
   "outputs": [
    {
     "name": "stdout",
     "output_type": "stream",
     "text": [
      "i:0 v1=1\n",
      "i:1 v1=2\n",
      "i:2 v1=3\n",
      "i:3 v1=4\n",
      "i:4 v1=5\n",
      "i:5 v1=6\n",
      "i:6 v1=7\n",
      "i:7 v1=8\n",
      "i:8 v1=9\n",
      "i:9 v1=10\n"
     ]
    }
   ],
   "source": [
    "import os\n",
    "import tensorflow as tf\n",
    "\n",
    "tf.reset_default_graph()\n",
    "\n",
    "MODEL_DIR = \"./tmp/data_model/\"\n",
    "if not os.path.exists(MODEL_DIR):\n",
    "    os.makedirs(MODEL_DIR)\n",
    "\n",
    "# graph定義\n",
    "# ポイント1:重要な要素には判りやすい名前を付けておく\n",
    "v1 = tf.Variable(initial_value=0.0, name=\"this_is_my_v1\")\n",
    "v1_add = v1.assign_add(1) # v1=v1+1をv1_addとして用意する\n",
    "\n",
    "saver = tf.train.Saver()\n",
    "with tf.Session() as sess:\n",
    "    sess.run(tf.global_variables_initializer())\n",
    "    for i in range(10):\n",
    "        _v1 = sess.run(v1_add) # v1=v1+1を実行する\n",
    "        print(\"i:%d v1=%d\" % (i,_v1))\n",
    "\n",
    "    # ポイント2:graphと学習済みv1をcheckpointに保存する\n",
    "    saver.save(sess, MODEL_DIR + '/model.ckpt')"
   ]
  },
  {
   "cell_type": "code",
   "execution_count": 41,
   "metadata": {},
   "outputs": [
    {
     "name": "stdout",
     "output_type": "stream",
     "text": [
      "checkpoint\t\t\tmodel.ckpt.index  model.pb\r\n",
      "model.ckpt.data-00000-of-00001\tmodel.ckpt.meta   model.pbtxt\r\n"
     ]
    }
   ],
   "source": [
    "!ls tmp/data_model"
   ]
  },
  {
   "cell_type": "markdown",
   "metadata": {},
   "source": [
    "### モデルをckptから読み込んでpdに保存"
   ]
  },
  {
   "cell_type": "code",
   "execution_count": 42,
   "metadata": {
    "scrolled": false
   },
   "outputs": [
    {
     "name": "stdout",
     "output_type": "stream",
     "text": [
      "load ./tmp/data_model/model.ckpt\n",
      "----- operations in graph -----\n",
      "this_is_my_v1/initial_value [<tf.Tensor 'this_is_my_v1/initial_value:0' shape=() dtype=float32>]\n",
      "this_is_my_v1 [<tf.Tensor 'this_is_my_v1:0' shape=() dtype=float32_ref>]\n",
      "this_is_my_v1/Assign [<tf.Tensor 'this_is_my_v1/Assign:0' shape=() dtype=float32_ref>]\n",
      "this_is_my_v1/read [<tf.Tensor 'this_is_my_v1/read:0' shape=() dtype=float32>]\n",
      "AssignAdd/value [<tf.Tensor 'AssignAdd/value:0' shape=() dtype=float32>]\n",
      "AssignAdd [<tf.Tensor 'AssignAdd:0' shape=() dtype=float32_ref>]\n",
      "save/Const [<tf.Tensor 'save/Const:0' shape=() dtype=string>]\n",
      "save/SaveV2/tensor_names [<tf.Tensor 'save/SaveV2/tensor_names:0' shape=(1,) dtype=string>]\n",
      "save/SaveV2/shape_and_slices [<tf.Tensor 'save/SaveV2/shape_and_slices:0' shape=(1,) dtype=string>]\n",
      "save/SaveV2 []\n",
      "save/control_dependency [<tf.Tensor 'save/control_dependency:0' shape=() dtype=string>]\n",
      "save/RestoreV2/tensor_names [<tf.Tensor 'save/RestoreV2/tensor_names:0' shape=(1,) dtype=string>]\n",
      "save/RestoreV2/shape_and_slices [<tf.Tensor 'save/RestoreV2/shape_and_slices:0' shape=(1,) dtype=string>]\n",
      "save/RestoreV2 [<tf.Tensor 'save/RestoreV2:0' shape=<unknown> dtype=float32>]\n",
      "save/Assign [<tf.Tensor 'save/Assign:0' shape=() dtype=float32_ref>]\n",
      "save/restore_all []\n",
      "init []\n",
      "INFO:tensorflow:Restoring parameters from ./tmp/data_model/model.ckpt\n",
      "INFO:tensorflow:Froze 1 variables.\n",
      "Converted 1 variables to const ops.\n"
     ]
    }
   ],
   "source": [
    "from tensorflow.python.framework import graph_util\n",
    "\n",
    "# jupyter実行用にGraphを初期化する\n",
    "tf.reset_default_graph()\n",
    "\n",
    "# checkpoint保存先ディレクトリ\n",
    "MODEL_DIR = \"./tmp/data_model\"\n",
    "# 保存先のpbファイル名\n",
    "FROZEN_MODEL_NAME=\"frozen_model.pb\"\n",
    "# デバイス情報を削除する\n",
    "CLEAR_DEVICES=True\n",
    "# pbに書き出すoperation名\n",
    "OUTPUT_NODE_NAMES=\"this_is_my_v1\"\n",
    "\n",
    "# graphのoperationを表示する\n",
    "def print_graph_operations(graph):\n",
    "    # print operations\n",
    "    print(\"----- operations in graph -----\")\n",
    "    for op in graph.get_operations():\n",
    "        print(op.name, op.outputs)\n",
    "\n",
    "# graph_defのnodeを表示する\n",
    "def print_graph_nodes(graph_def):\n",
    "    # print nodes\n",
    "    print(\"----- nodes in graph_def -----\")\n",
    "    for node in graph_def.node:\n",
    "        print(node)\n",
    "\n",
    "# checkpointファイルの確認を行う\n",
    "checkpoint = tf.train.get_checkpoint_state(MODEL_DIR)\n",
    "if not checkpoint:\n",
    "    # checkpointファイルが見つからない\n",
    "    print(\"cannot find checkpoint.\")\n",
    "else:\n",
    "    # checkpointファイルから最後に保存したモデルへのパスを取得する\n",
    "    last_model = checkpoint.model_checkpoint_path\n",
    "    print((\"load {0}\".format(last_model)))\n",
    "\n",
    "    # pbファイル名を設定する\n",
    "    absolute_model_dir = \"/\".join(last_model.split('/')[:-1])\n",
    "    frozen_model = absolute_model_dir + \"/\" + FROZEN_MODEL_NAME\n",
    "\n",
    "    # checkpointのmetaファイルからGraphを読み込む\n",
    "    saver = tf.train.import_meta_graph(last_model + '.meta', clear_devices=CLEAR_DEVICES)\n",
    "\n",
    "    # graph定義を取得する\n",
    "    graph = tf.get_default_graph()\n",
    "    graph_def = graph.as_graph_def()\n",
    "\n",
    "    # print operations\n",
    "    print_graph_operations(graph)\n",
    "\n",
    "    # print nodes\n",
    "    # print_graph_nodes(graph_def)\n",
    "\n",
    "    with tf.Session() as sess:\n",
    "        # 学習済みモデルの値を復元する\n",
    "        saver.restore(sess, last_model)\n",
    "\n",
    "        # tf.VariableをConstに変換したgraphを取得する\n",
    "        output_graph_def = graph_util.convert_variables_to_constants(\n",
    "            sess,\n",
    "            graph_def,\n",
    "            OUTPUT_NODE_NAMES.split(\",\")\n",
    "        )\n",
    "\n",
    "        # pbファイルに保存\n",
    "        tf.train.write_graph(output_graph_def, MODEL_DIR,\n",
    "                             FROZEN_MODEL_NAME, as_text=False)"
   ]
  },
  {
   "cell_type": "markdown",
   "metadata": {},
   "source": [
    "### pbファイル読み込み"
   ]
  },
  {
   "cell_type": "code",
   "execution_count": 43,
   "metadata": {},
   "outputs": [
    {
     "name": "stdout",
     "output_type": "stream",
     "text": [
      "WARNING:tensorflow:From <ipython-input-43-4f79247fbe18>:35: calling import_graph_def (from tensorflow.python.framework.importer) with op_dict is deprecated and will be removed in a future version.\n",
      "Instructions for updating:\n",
      "Please file an issue at https://github.com/tensorflow/tensorflow/issues if you depend on this feature.\n",
      "----- operations in graph -----\n",
      "my_prefix/this_is_my_v1 [<tf.Tensor 'my_prefix/this_is_my_v1:0' shape=() dtype=float32>]\n",
      "v1=10\n"
     ]
    }
   ],
   "source": [
    "tf.reset_default_graph()\n",
    "\n",
    "# checkpoint保存先ディレクトリ\n",
    "MODEL_DIR = \"./tmp/data_model\"\n",
    "\n",
    "# 保存先のpbファイル名\n",
    "FROZEN_MODEL_NAME=\"frozen_model.pb\"\n",
    "\n",
    "def print_graph_operations(graph):\n",
    "    # print operations\n",
    "    print(\"----- operations in graph -----\")\n",
    "    for op in graph.get_operations():\n",
    "        print(op.name, op.outputs)\n",
    "\n",
    "def print_graph_nodes(graph_def):\n",
    "    # print nodes\n",
    "    print(\"----- nodes in graph_def -----\")\n",
    "    for node in graph_def.node:\n",
    "        print(node)\n",
    "\n",
    "def load_graph(frozen_graph_filename):\n",
    "    # pbファイルを読み込みgraph定義を復元する\n",
    "    with tf.gfile.GFile(frozen_graph_filename, \"rb\") as f:\n",
    "        graph_def = tf.GraphDef()\n",
    "        graph_def.ParseFromString(f.read())\n",
    "\n",
    "    # pbファイルから復元したgraph_defをカレントgraph_defに設定する\n",
    "    with tf.Graph().as_default() as graph:\n",
    "        tf.import_graph_def(\n",
    "            graph_def,\n",
    "            input_map=None,\n",
    "            return_elements=None,\n",
    "            name=\"my_prefix\",\n",
    "            op_dict=None,\n",
    "            producer_op_list=None\n",
    "        )\n",
    "    return graph\n",
    "\n",
    "graph = load_graph(MODEL_DIR+\"/\"+FROZEN_MODEL_NAME)\n",
    "graph_def = graph.as_graph_def()\n",
    "\n",
    "# print operations\n",
    "print_graph_operations(graph)\n",
    "\n",
    "v1 = graph.get_tensor_by_name('my_prefix/this_is_my_v1:0') # v1のoperationの出力nodeを取得する\n",
    "\n",
    "with tf.Session(graph=graph) as sess:\n",
    "    _v1 = sess.run(v1) # v1の値を取得する\n",
    "    print(\"v1=%d\" % (_v1))"
   ]
  },
  {
   "cell_type": "code",
   "execution_count": null,
   "metadata": {
    "collapsed": true
   },
   "outputs": [],
   "source": []
  }
 ],
 "metadata": {
  "kernelspec": {
   "display_name": "Python 2",
   "language": "python",
   "name": "python2"
  },
  "language_info": {
   "codemirror_mode": {
    "name": "ipython",
    "version": 2
   },
   "file_extension": ".py",
   "mimetype": "text/x-python",
   "name": "python",
   "nbconvert_exporter": "python",
   "pygments_lexer": "ipython2",
   "version": "2.7.12"
  }
 },
 "nbformat": 4,
 "nbformat_minor": 2
}
